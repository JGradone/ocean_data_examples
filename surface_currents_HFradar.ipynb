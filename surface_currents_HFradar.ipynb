{
 "cells": [
  {
   "cell_type": "markdown",
   "metadata": {},
   "source": [
    "# High-frequency Radar observations of surface currents\n",
    "\n",
    "HF radar is amazing! With the right configuration of radars you can get ocean surface velocity over a broad area, at high spatial and temporal resolution. There is an extensive (and growing) network of these radar around the world. \n",
    "\n",
    "In the US the data is aggregated and dististributed by the National HFRADAR Network: http://cordc.ucsd.edu/projects/mapping/ and hosted at the Coastal Observing Research and Development Center Scripps Institution of Oceanography (https://cordc.ucsd.edu/).\n",
    "\n",
    "Data are available via THREDDS for 5 regions at https://hfrnet-tds.ucsd.edu/thredds/catalog.html:\n",
    "* US West Coast : \n",
    "* US East and Gulf Coast\n",
    "* US Hawai'i State\n",
    "* Alaska, North Slope\n",
    "* Puerto Rico and the US Virgin Islands\n",
    "\n",
    "Data is available for each region at different spatial and temporal resolutions (resulting from different radar frequencies and data processing steps).\n",
    "\n",
    "Lots of detailed information is available from the github page for the Radiowave Operators Working Group: https://github.com/rowg, and from IOOS: https://ioos.noaa.gov/project/hf-radar/\n",
    "\n",
    "\n",
    "\n"
   ]
  },
  {
   "cell_type": "code",
   "execution_count": 2,
   "metadata": {},
   "outputs": [
    {
     "name": "stderr",
     "output_type": "stream",
     "text": [
      "/Users/beaird/anaconda3/lib/python3.7/site-packages/xarray/core/merge.py:17: FutureWarning: The Panel class is removed from pandas. Accessing it from the top-level namespace will also be removed in the next version\n",
      "  PANDAS_TYPES = (pd.Series, pd.DataFrame, pd.Panel)\n"
     ]
    }
   ],
   "source": [
    "import xarray as xr\n",
    "import cartopy.crs as ccrs\n",
    "import matplotlib.pyplot as plt\n",
    "\n",
    "\n",
    "%matplotlib inline"
   ]
  },
  {
   "cell_type": "markdown",
   "metadata": {},
   "source": [
    "# links for the 6km hourly data for the 5 regions are below:"
   ]
  },
  {
   "cell_type": "code",
   "execution_count": 3,
   "metadata": {},
   "outputs": [],
   "source": [
    "url_USwest_6km = 'http://hfrnet-tds.ucsd.edu/thredds/dodsC/HFR/USWC/6km/hourly/RTV/HFRADAR_US_West_Coast_6km_Resolution_Hourly_RTV_best.ncd'\n",
    "url_USeast_6km = 'http://hfrnet-tds.ucsd.edu/thredds/dodsC/HFR/USEGC/6km/hourly/RTV/HFRADAR_US_East_and_Gulf_Coast_6km_Resolution_Hourly_RTV_best.ncd'\n",
    "url_alaska_6km = 'http://hfrnet-tds.ucsd.edu/thredds/dodsC/HFR/AKNS/6km/hourly/RTV/HFRADAR_Alaska_-_North_Slope_6km_Resolution_Hourly_RTV_best.ncd'\n",
    "url_hawaii_6km = 'http://hfrnet-tds.ucsd.edu/thredds/dodsC/HFR/USHI/6km/hourly/RTV/HFRADAR_US_Hawaii_6km_Resolution_Hourly_RTV_best.ncd'\n",
    "url_puerto_rico_6km = 'http://hfrnet-tds.ucsd.edu/thredds/dodsC/HFR/PRVI/6km/hourly/RTV/HFRADAR_Puerto_Rico_and_the_US_Virgin_Islands_6km_Resolution_Hourly_RTV_best.ncd'\n",
    "\n"
   ]
  },
  {
   "cell_type": "markdown",
   "metadata": {},
   "source": [
    "# Load data from a region\n",
    "\n",
    "xarray uses lazy-loading, so this will just load the metadata. We will want to select a smaller time or space region so that the files aren't so huge. "
   ]
  },
  {
   "cell_type": "code",
   "execution_count": 4,
   "metadata": {},
   "outputs": [
    {
     "data": {
      "text/plain": [
       "<xarray.Dataset>\n",
       "Dimensions:       (lat: 460, lon: 701, nProcParam: 7, nSites: 37, time: 69104)\n",
       "Coordinates:\n",
       "  * lat           (lat) float32 21.73596 21.7899 21.84384 ... 46.44048 46.49442\n",
       "  * lon           (lon) float32 -97.88385 -97.825775 ... -57.289284 -57.23121\n",
       "  * time          (time) datetime64[ns] 2012-01-01 ... 2019-11-21T16:00:00\n",
       "    time_run      (time) datetime64[ns] ...\n",
       "Dimensions without coordinates: nProcParam, nSites\n",
       "Data variables:\n",
       "    site_lat      (nSites) float32 ...\n",
       "    site_lon      (nSites) float32 ...\n",
       "    site_code     (nSites) |S64 ...\n",
       "    site_netCode  (nSites) |S64 ...\n",
       "    procParams    (nProcParam) float32 ...\n",
       "    time_offset   (time) datetime64[ns] ...\n",
       "    u             (time, lat, lon) float32 ...\n",
       "    v             (time, lat, lon) float32 ...\n",
       "    DOPx          (time, lat, lon) float32 ...\n",
       "    DOPy          (time, lat, lon) float32 ...\n",
       "Attributes:\n",
       "    netcdf_library_version:  4.1.3\n",
       "    format_version:          HFRNet_1.0.0\n",
       "    product_version:         HFRNet_1.1.05\n",
       "    Conventions:             CF-1.4\n",
       "    title:                   Near-Real Time Surface Ocean Velocity, U.S. East...\n",
       "    institution:             Scripps Institution of Oceanography\n",
       "    source:                  Surface Ocean HF-Radar\n",
       "    history:                 21-Nov-2019 08:04:48: NetCDF file created\\n21-No...\n",
       "    references:              Terrill, E. et al., 2006. Data Management and Re...\n",
       "    creator_name:            Mark Otero\n",
       "    creator_email:           motero@ucsd.edu\n",
       "    creator_url:             http://cordc.ucsd.edu/projects/mapping/\n",
       "    summary:                 Surface ocean velocities estimated from HF-Radar...\n",
       "    geospatial_lat_min:      21.73596\n",
       "    geospatial_lat_max:      46.49442\n",
       "    geospatial_lon_min:      -97.88385\n",
       "    geospatial_lon_max:      -57.23121\n",
       "    grid_resolution:         6km\n",
       "    grid_projection:         equidistant cylindrical\n",
       "    regional_description:    Unites States, East and Gulf Coast\n",
       "    _CoordSysBuilder:        ucar.nc2.dataset.conv.CF1Convention\n",
       "    cdm_data_type:           GRID\n",
       "    featureType:             GRID\n",
       "    location:                Proto fmrc:HFRADAR_US_East_and_Gulf_Coast_6km_Re...\n",
       "    DODS.strlen:             25\n",
       "    DODS.dimName:            nSites_maxStrlen"
      ]
     },
     "execution_count": 4,
     "metadata": {},
     "output_type": "execute_result"
    }
   ],
   "source": [
    "ds = xr.open_dataset(url_USeast_6km)\n",
    "\n",
    "ds"
   ]
  },
  {
   "cell_type": "markdown",
   "metadata": {},
   "source": [
    "# select a subset of the data:\n",
    "# Mid-Atlantic Bight\n",
    "\n",
    "Here I will grab the midatlantic region\n",
    "```python\n",
    "MAB = ds.___(lat = slice() , lon = ___(__,__))\n",
    "\n",
    "```\n",
    "\n",
    "then grab a particular time below\n"
   ]
  },
  {
   "cell_type": "code",
   "execution_count": 9,
   "metadata": {},
   "outputs": [
    {
     "data": {
      "text/plain": [
       "<xarray.Dataset>\n",
       "Dimensions:       (lat: 91, lon: 181, nProcParam: 7, nSites: 37)\n",
       "Coordinates:\n",
       "  * lat           (lat) float32 36.6234 36.67734 36.73128 ... 41.42406 41.478\n",
       "  * lon           (lon) float32 -76.57025 -76.51218 ... -66.17479 -66.116714\n",
       "    time          datetime64[ns] 2019-07-21T12:00:00\n",
       "    time_run      datetime64[ns] ...\n",
       "Dimensions without coordinates: nProcParam, nSites\n",
       "Data variables:\n",
       "    site_lat      (nSites) float32 ...\n",
       "    site_lon      (nSites) float32 ...\n",
       "    site_code     (nSites) |S64 ...\n",
       "    site_netCode  (nSites) |S64 ...\n",
       "    procParams    (nProcParam) float32 ...\n",
       "    time_offset   datetime64[ns] ...\n",
       "    u             (lat, lon) float32 ...\n",
       "    v             (lat, lon) float32 ...\n",
       "    DOPx          (lat, lon) float32 ...\n",
       "    DOPy          (lat, lon) float32 ...\n",
       "Attributes:\n",
       "    netcdf_library_version:  4.1.3\n",
       "    format_version:          HFRNet_1.0.0\n",
       "    product_version:         HFRNet_1.1.05\n",
       "    Conventions:             CF-1.4\n",
       "    title:                   Near-Real Time Surface Ocean Velocity, U.S. East...\n",
       "    institution:             Scripps Institution of Oceanography\n",
       "    source:                  Surface Ocean HF-Radar\n",
       "    history:                 21-Nov-2019 08:04:48: NetCDF file created\\n21-No...\n",
       "    references:              Terrill, E. et al., 2006. Data Management and Re...\n",
       "    creator_name:            Mark Otero\n",
       "    creator_email:           motero@ucsd.edu\n",
       "    creator_url:             http://cordc.ucsd.edu/projects/mapping/\n",
       "    summary:                 Surface ocean velocities estimated from HF-Radar...\n",
       "    geospatial_lat_min:      21.73596\n",
       "    geospatial_lat_max:      46.49442\n",
       "    geospatial_lon_min:      -97.88385\n",
       "    geospatial_lon_max:      -57.23121\n",
       "    grid_resolution:         6km\n",
       "    grid_projection:         equidistant cylindrical\n",
       "    regional_description:    Unites States, East and Gulf Coast\n",
       "    _CoordSysBuilder:        ucar.nc2.dataset.conv.CF1Convention\n",
       "    cdm_data_type:           GRID\n",
       "    featureType:             GRID\n",
       "    location:                Proto fmrc:HFRADAR_US_East_and_Gulf_Coast_6km_Re...\n",
       "    DODS.strlen:             25\n",
       "    DODS.dimName:            nSites_maxStrlen"
      ]
     },
     "execution_count": 9,
     "metadata": {},
     "output_type": "execute_result"
    }
   ],
   "source": [
    "\n",
    "MAB = ds.sel(lat = slice(36.6, 41.5) , lon = slice(-76.6,  -66.1))\n",
    "MAB = MAB.sel( time = '2019-07-21 12:00', method='nearest')\n",
    "MAB"
   ]
  },
  {
   "cell_type": "code",
   "execution_count": 10,
   "metadata": {},
   "outputs": [
    {
     "data": {
      "text/plain": [
       "<cartopy.mpl.feature_artist.FeatureArtist at 0xd2a78f9b0>"
      ]
     },
     "execution_count": 10,
     "metadata": {},
     "output_type": "execute_result"
    },
    {
     "data": {
      "image/png": "[encoded data removed]",
      "text/plain": [
       "<Figure size 864x864 with 2 Axes>"
      ]
     },
     "metadata": {
      "needs_background": "light"
     },
     "output_type": "display_data"
    }
   ],
   "source": [
    "data_crs = ccrs.PlateCarree()\n",
    "projection = ccrs.Mercator()\n",
    "\n",
    "fig, ax = plt.subplots(1, 2,\n",
    "    figsize=(12, 12),\n",
    "    subplot_kw=dict(projection=projection)\n",
    ")\n",
    "\n",
    "\n",
    "ax[0].quiver(MAB.lon[::2].values, MAB.lat[::2].values, MAB.u[::2,::2].values, MAB.v[::2,::2].values,  scale=5,  width=0.008,\n",
    "             transform=data_crs, color='orangered',edgecolor='k')\n",
    "ax[0].coastlines(resolution='10m')\n",
    "# ax[0].set_extent([-159, -154, 70.8, 72.0])"
   ]
  },
  {
   "cell_type": "code",
   "execution_count": null,
   "metadata": {},
   "outputs": [],
   "source": []
  }
 ],
 "metadata": {
  "kernelspec": {
   "display_name": "Python 3",
   "language": "python",
   "name": "python3"
  },
  "language_info": {
   "codemirror_mode": {
    "name": "ipython",
    "version": 3
   },
   "file_extension": ".py",
   "mimetype": "text/x-python",
   "name": "python",
   "nbconvert_exporter": "python",
   "pygments_lexer": "ipython3",
   "version": "3.7.3"
  }
 },
 "nbformat": 4,
 "nbformat_minor": 4
}
