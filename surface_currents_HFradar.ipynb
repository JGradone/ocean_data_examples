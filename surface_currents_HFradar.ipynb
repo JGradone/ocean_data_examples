{
 "cells": [
  {
   "cell_type": "markdown",
   "metadata": {},
   "source": [
    "# High-frequency Radar observations of surface currents\n",
    "\n",
    "HF radar is amazing! With the right configuration of radars you can get ocean surface velocity over a broad area, at high spatial and temporal resolution. There is an extensive (and growing) network of these radar around the world. \n",
    "\n",
    "In the US the data is aggregated and dististributed by the National HFRADAR Network: http://cordc.ucsd.edu/projects/mapping/\n",
    "\n",
    "\n"
   ]
  },
  {
   "cell_type": "code",
   "execution_count": null,
   "metadata": {},
   "outputs": [],
   "source": []
  }
 ],
 "metadata": {
  "kernelspec": {
   "display_name": "Python 3",
   "language": "python",
   "name": "python3"
  },
  "language_info": {
   "codemirror_mode": {
    "name": "ipython",
    "version": 3
   },
   "file_extension": ".py",
   "mimetype": "text/x-python",
   "name": "python",
   "nbconvert_exporter": "python",
   "pygments_lexer": "ipython3",
   "version": "3.7.3"
  }
 },
 "nbformat": 4,
 "nbformat_minor": 4
}
