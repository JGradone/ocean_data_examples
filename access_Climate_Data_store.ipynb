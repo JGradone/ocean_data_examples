{
 "cells": [
  {
   "cell_type": "markdown",
   "metadata": {},
   "source": [
    "# The Climate Data Store\n",
    "Just starting to play with this. \n",
    "\n",
    "https://cds.climate.copernicus.eu/\n",
    "\n",
    "I'm not sure yet where this is going, but you can request data through thier API if you create an account:\n",
    "https://cds.climate.copernicus.eu/api-how-to\n",
    "\n",
    "I think it just downloads the data to your computer though. \n"
   ]
  },
  {
   "cell_type": "code",
   "execution_count": 1,
   "metadata": {},
   "outputs": [
    {
     "name": "stderr",
     "output_type": "stream",
     "text": [
      "2019-08-28 14:31:42,860 INFO Sending request to https://cds.climate.copernicus.eu/api/v2/resources/satellite-sea-ice\n",
      "2019-08-28 14:31:43,692 INFO Request is queued\n",
      "2019-08-28 14:31:44,789 INFO Request is running\n",
      "2019-08-28 14:32:33,717 INFO Request is completed\n",
      "2019-08-28 14:32:33,718 INFO Downloading http://136.156.132.210/cache-compute-0005/cache/data7/dataset-satellite-sea-ice-63721168-6ab5-4b6f-ad0f-a554c47c4735.zip to download.zip (33.3M)\n",
      "2019-08-28 14:32:39,261 INFO Download rate 6M/s\n"
     ]
    },
    {
     "data": {
      "text/plain": [
       "Result(content_length=34951627,content_type=application/zip,location=http://136.156.132.210/cache-compute-0005/cache/data7/dataset-satellite-sea-ice-63721168-6ab5-4b6f-ad0f-a554c47c4735.zip)"
      ]
     },
     "execution_count": 1,
     "metadata": {},
     "output_type": "execute_result"
    }
   ],
   "source": [
    "import cdsapi\n",
    "\n",
    "c = cdsapi.Client()\n",
    "\n",
    "c.retrieve(\n",
    "    'satellite-sea-ice',\n",
    "    {\n",
    "        'format':'zip',\n",
    "        'year':'2019',\n",
    "        'month':[\n",
    "            '01','02','03',\n",
    "            '04','05','06',\n",
    "            '07'\n",
    "        ],\n",
    "        'variable':[\n",
    "            'sea_ice_concentration','sea_ice_thickness'\n",
    "        ],\n",
    "        'region':'north_hemisphere',\n",
    "        'day':'15'\n",
    "    },\n",
    "    'download.zip')"
   ]
  },
  {
   "cell_type": "code",
   "execution_count": null,
   "metadata": {},
   "outputs": [],
   "source": []
  }
 ],
 "metadata": {
  "kernelspec": {
   "display_name": "Python 3",
   "language": "python",
   "name": "python3"
  },
  "language_info": {
   "codemirror_mode": {
    "name": "ipython",
    "version": 3
   },
   "file_extension": ".py",
   "mimetype": "text/x-python",
   "name": "python",
   "nbconvert_exporter": "python",
   "pygments_lexer": "ipython3",
   "version": "3.7.3"
  }
 },
 "nbformat": 4,
 "nbformat_minor": 2
}
