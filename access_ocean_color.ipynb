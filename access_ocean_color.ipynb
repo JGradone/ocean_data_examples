{
 "cells": [
  {
   "cell_type": "markdown",
   "metadata": {},
   "source": [
    "# NASA ocean color data \n",
    "\n",
    "\n",
    "This notebook demonstrates how we can access Ocean Color data from NASA.\n",
    "\n",
    "\n",
    "The main repository for NASAs ocean color data is: https://oceandata.sci.gsfc.nasa.gov/opendap/\n",
    "\n",
    "We will look at data from the MODIS-Aqua (MODIS-A) satellite, and in particular we will look at the level 3 product, which is data that has gone through the highest level of processing and nicely gridded.\n",
    "\n",
    "\n",
    "NASA organizes data by year and year day. You can see this structure by clicking through the OpenDAP server. The file used in this example contains the mapped chlorophyll-a data for July 28 (year day 210), 2019.\n",
    "\n",
    "\n",
    "### credit:\n",
    "this lession borrowed from Tom Connolly: https://github.com/tompc35/oceanography-notebooks/blob/master/ocean_color_netcdf.ipynb"
   ]
  },
  {
   "cell_type": "code",
   "execution_count": 2,
   "metadata": {},
   "outputs": [],
   "source": [
    "# import statements\n",
    "\n",
    "%matplotlib inline \n",
    "\n",
    "import numpy as np\n",
    "\n",
    "import matplotlib.pyplot as plt\n",
    "\n",
    "import cartopy.crs as ccrs\n",
    "\n",
    "\n",
    "import xarray as xr\n"
   ]
  },
  {
   "cell_type": "markdown",
   "metadata": {},
   "source": [
    "# use `xr.open_dataset()` to access the data\n",
    "\n",
    "the data for yearday 210 of 2019 is located at:\n",
    "```python\n",
    "url = 'https://oceandata.sci.gsfc.nasa.gov:443/opendap/MODISA/L3SMI/2019/210/A2019210.L3m_DAY_CHL_chlor_a_4km.nc'\n",
    "```\n"
   ]
  },
  {
   "cell_type": "code",
   "execution_count": 3,
   "metadata": {},
   "outputs": [
    {
     "data": {
      "text/plain": [
       "<xarray.Dataset>\n",
       "Dimensions:  (eightbitcolor: 256, lat: 4320, lon: 8640, rgb: 3)\n",
       "Coordinates:\n",
       "  * lat      (lat) float32 89.979164 89.9375 89.89583 ... -89.93751 -89.97918\n",
       "  * lon      (lon) float32 -179.97917 -179.9375 ... 179.93752 179.97917\n",
       "Dimensions without coordinates: eightbitcolor, rgb\n",
       "Data variables:\n",
       "    palette  (rgb, eightbitcolor) int8 ...\n",
       "    chlor_a  (lat, lon) float32 ...\n",
       "Attributes:\n",
       "    _NCProperties:                     version=1|netcdflibversion=4.4.1.1|hdf...\n",
       "    product_name:                      A2019210.L3m_DAY_CHL_chlor_a_4km.nc\n",
       "    instrument:                        MODIS\n",
       "    title:                             MODISA Level-3 Standard Mapped Image\n",
       "    project:                           Ocean Biology Processing Group (NASA/G...\n",
       "    platform:                          Aqua\n",
       "    temporal_range:                    day\n",
       "    processing_version:                2018.0\n",
       "    date_created:                      2019-09-05T22:57:04.000Z\n",
       "    history:                           l3mapgen par=A2019210.L3m_DAY_CHL_chlo...\n",
       "    l2_flag_names:                     ATMFAIL,LAND,HILT,HISATZEN,STRAYLIGHT,...\n",
       "    time_coverage_start:               2019-07-29T00:10:01.000Z\n",
       "    time_coverage_end:                 2019-07-30T02:49:59.000Z\n",
       "    start_orbit_number:                91668\n",
       "    end_orbit_number:                  91684\n",
       "    map_projection:                    Equidistant Cylindrical\n",
       "    latitude_units:                    degrees_north\n",
       "    longitude_units:                   degrees_east\n",
       "    northernmost_latitude:             90.0\n",
       "    southernmost_latitude:             -90.0\n",
       "    westernmost_longitude:             -180.0\n",
       "    easternmost_longitude:             180.0\n",
       "    geospatial_lat_max:                90.0\n",
       "    geospatial_lat_min:                -90.0\n",
       "    geospatial_lon_max:                180.0\n",
       "    geospatial_lon_min:                -180.0\n",
       "    latitude_step:                     0.041666668\n",
       "    longitude_step:                    0.041666668\n",
       "    sw_point_latitude:                 -89.979164\n",
       "    sw_point_longitude:                -179.97917\n",
       "    geospatial_lon_resolution:         4.6383123\n",
       "    geospatial_lat_resolution:         4.6383123\n",
       "    geospatial_lat_units:              degrees_north\n",
       "    geospatial_lon_units:              degrees_east\n",
       "    spatialResolution:                 4.64 km\n",
       "    number_of_lines:                   4320\n",
       "    number_of_columns:                 8640\n",
       "    measure:                           Mean\n",
       "    suggested_image_scaling_minimum:   0.01\n",
       "    suggested_image_scaling_maximum:   20.0\n",
       "    suggested_image_scaling_type:      LOG\n",
       "    suggested_image_scaling_applied:   No\n",
       "    _lastModified:                     2019-09-05T22:57:04.000Z\n",
       "    Conventions:                       CF-1.6 ACDD-1.3\n",
       "    institution:                       NASA Goddard Space Flight Center, Ocea...\n",
       "    standard_name_vocabulary:          CF Standard Name Table v36\n",
       "    naming_authority:                  gov.nasa.gsfc.sci.oceandata\n",
       "    id:                                A2019210.L3b_DAY_CHL.nc/L3/A2019210.L3...\n",
       "    license:                           http://science.nasa.gov/earth-science/...\n",
       "    creator_name:                      NASA/GSFC/OBPG\n",
       "    publisher_name:                    NASA/GSFC/OBPG\n",
       "    creator_email:                     data@oceancolor.gsfc.nasa.gov\n",
       "    publisher_email:                   data@oceancolor.gsfc.nasa.gov\n",
       "    creator_url:                       http://oceandata.sci.gsfc.nasa.gov\n",
       "    publisher_url:                     http://oceandata.sci.gsfc.nasa.gov\n",
       "    processing_level:                  L3 Mapped\n",
       "    cdm_data_type:                     grid\n",
       "    identifier_product_doi_authority:  http://dx.doi.org\n",
       "    identifier_product_doi:            10.5067/AQUA/MODIS/L3M/CHL/2018\n",
       "    keywords:                          Earth Science > Oceans > Ocean Chemist...\n",
       "    keywords_vocabulary:               NASA Global Change Master Directory (G...\n",
       "    data_bins:                         Attribute edlided: Unsupported attribu...\n",
       "    data_minimum:                      0.008464555\n",
       "    data_maximum:                      99.794235"
      ]
     },
     "execution_count": 3,
     "metadata": {},
     "output_type": "execute_result"
    }
   ],
   "source": [
    "\n",
    "url = 'https://oceandata.sci.gsfc.nasa.gov:443/opendap/MODISA/L3SMI/2019/210/A2019210.L3m_DAY_CHL_chlor_a_4km.nc'\n",
    "data = xr.open_dataset(url)\n",
    "\n",
    "data"
   ]
  },
  {
   "cell_type": "markdown",
   "metadata": {},
   "source": [
    "# Subset the data\n",
    "\n",
    "Again, let's just grab the mid-atlantic bight.\n",
    "\n",
    "Note, that for some reason I don't understand, the `lat` `coords` are listed from high to low, so when you slice, you need to reverse the order, i.e. use `sel( lat=slice(41, 38))` *not* `sel( lat=slice( 38, 41)`. This is a mystery.\n",
    "\n",
    "fill in the blanks to get a subset of the data that covers the MAB (the lat boundaries at 38 to 41 degrees, and lon boundaries are -76 to -71):\n",
    "\n",
    "```python\n",
    "data_mab_nj = data.___( lat = ___, lon = ___)\n",
    "```"
   ]
  },
  {
   "cell_type": "code",
   "execution_count": 4,
   "metadata": {},
   "outputs": [
    {
     "name": "stdout",
     "output_type": "stream",
     "text": [
      "0.036096\n"
     ]
    },
    {
     "data": {
      "text/plain": [
       "<xarray.Dataset>\n",
       "Dimensions:  (eightbitcolor: 256, lat: 72, lon: 120, rgb: 3)\n",
       "Coordinates:\n",
       "  * lat      (lat) float32 40.979168 40.9375 40.895832 ... 38.0625 38.020832\n",
       "  * lon      (lon) float32 -75.979164 -75.93749 ... -71.06249 -71.02083\n",
       "Dimensions without coordinates: eightbitcolor, rgb\n",
       "Data variables:\n",
       "    palette  (rgb, eightbitcolor) int8 ...\n",
       "    chlor_a  (lat, lon) float32 ...\n",
       "Attributes:\n",
       "    _NCProperties:                     version=1|netcdflibversion=4.4.1.1|hdf...\n",
       "    product_name:                      A2019210.L3m_DAY_CHL_chlor_a_4km.nc\n",
       "    instrument:                        MODIS\n",
       "    title:                             MODISA Level-3 Standard Mapped Image\n",
       "    project:                           Ocean Biology Processing Group (NASA/G...\n",
       "    platform:                          Aqua\n",
       "    temporal_range:                    day\n",
       "    processing_version:                2018.0\n",
       "    date_created:                      2019-09-05T22:57:04.000Z\n",
       "    history:                           l3mapgen par=A2019210.L3m_DAY_CHL_chlo...\n",
       "    l2_flag_names:                     ATMFAIL,LAND,HILT,HISATZEN,STRAYLIGHT,...\n",
       "    time_coverage_start:               2019-07-29T00:10:01.000Z\n",
       "    time_coverage_end:                 2019-07-30T02:49:59.000Z\n",
       "    start_orbit_number:                91668\n",
       "    end_orbit_number:                  91684\n",
       "    map_projection:                    Equidistant Cylindrical\n",
       "    latitude_units:                    degrees_north\n",
       "    longitude_units:                   degrees_east\n",
       "    northernmost_latitude:             90.0\n",
       "    southernmost_latitude:             -90.0\n",
       "    westernmost_longitude:             -180.0\n",
       "    easternmost_longitude:             180.0\n",
       "    geospatial_lat_max:                90.0\n",
       "    geospatial_lat_min:                -90.0\n",
       "    geospatial_lon_max:                180.0\n",
       "    geospatial_lon_min:                -180.0\n",
       "    latitude_step:                     0.041666668\n",
       "    longitude_step:                    0.041666668\n",
       "    sw_point_latitude:                 -89.979164\n",
       "    sw_point_longitude:                -179.97917\n",
       "    geospatial_lon_resolution:         4.6383123\n",
       "    geospatial_lat_resolution:         4.6383123\n",
       "    geospatial_lat_units:              degrees_north\n",
       "    geospatial_lon_units:              degrees_east\n",
       "    spatialResolution:                 4.64 km\n",
       "    number_of_lines:                   4320\n",
       "    number_of_columns:                 8640\n",
       "    measure:                           Mean\n",
       "    suggested_image_scaling_minimum:   0.01\n",
       "    suggested_image_scaling_maximum:   20.0\n",
       "    suggested_image_scaling_type:      LOG\n",
       "    suggested_image_scaling_applied:   No\n",
       "    _lastModified:                     2019-09-05T22:57:04.000Z\n",
       "    Conventions:                       CF-1.6 ACDD-1.3\n",
       "    institution:                       NASA Goddard Space Flight Center, Ocea...\n",
       "    standard_name_vocabulary:          CF Standard Name Table v36\n",
       "    naming_authority:                  gov.nasa.gsfc.sci.oceandata\n",
       "    id:                                A2019210.L3b_DAY_CHL.nc/L3/A2019210.L3...\n",
       "    license:                           http://science.nasa.gov/earth-science/...\n",
       "    creator_name:                      NASA/GSFC/OBPG\n",
       "    publisher_name:                    NASA/GSFC/OBPG\n",
       "    creator_email:                     data@oceancolor.gsfc.nasa.gov\n",
       "    publisher_email:                   data@oceancolor.gsfc.nasa.gov\n",
       "    creator_url:                       http://oceandata.sci.gsfc.nasa.gov\n",
       "    publisher_url:                     http://oceandata.sci.gsfc.nasa.gov\n",
       "    processing_level:                  L3 Mapped\n",
       "    cdm_data_type:                     grid\n",
       "    identifier_product_doi_authority:  http://dx.doi.org\n",
       "    identifier_product_doi:            10.5067/AQUA/MODIS/L3M/CHL/2018\n",
       "    keywords:                          Earth Science > Oceans > Ocean Chemist...\n",
       "    keywords_vocabulary:               NASA Global Change Master Directory (G...\n",
       "    data_bins:                         Attribute edlided: Unsupported attribu...\n",
       "    data_minimum:                      0.008464555\n",
       "    data_maximum:                      99.794235"
      ]
     },
     "execution_count": 4,
     "metadata": {},
     "output_type": "execute_result"
    }
   ],
   "source": [
    "data_mab_nj = data.sel( lat=slice(41, 38), lon=slice(-76,-71))\n",
    "\n",
    "print(data_mab_nj.nbytes/10**6)\n",
    "\n",
    "data_mab_nj"
   ]
  },
  {
   "cell_type": "markdown",
   "metadata": {},
   "source": [
    "# plot the chlorophyll a\n",
    "\n",
    "for the mid atlantic bight subset using the built-in xarray plotting routine. i.e. fill in the blanks, and remember we want to just plot the variable `chlor_a`:\n",
    "```python\n",
    "data_mab_nj.___.___()\n",
    "```\n",
    "\n"
   ]
  },
  {
   "cell_type": "code",
   "execution_count": 5,
   "metadata": {},
   "outputs": [
    {
     "data": {
      "text/plain": [
       "<matplotlib.collections.QuadMesh at 0x31f6d4eb8>"
      ]
     },
     "execution_count": 5,
     "metadata": {},
     "output_type": "execute_result"
    },
    {
     "data": {
      "image/png": "[encoded data removed]",
      "text/plain": [
       "<Figure size 432x288 with 2 Axes>"
      ]
     },
     "metadata": {
      "needs_background": "light"
     },
     "output_type": "display_data"
    }
   ],
   "source": [
    "data_mab_nj.chlor_a.plot()"
   ]
  },
  {
   "cell_type": "markdown",
   "metadata": {},
   "source": [
    "# Chla should be plotted on a log scale\n",
    "\n",
    "Let's make the same plot with matplotlib, and use `np.log10()` to plot the data on a logarythmic scale:\n",
    "\n",
    "```python\n",
    "plt.pcolor( data_mab_nj.___, data_mab_nj.___, np.log10(data_mab_nj.___))\n",
    "# add a colorbar below:\n",
    "plt.___\n",
    "\n",
    "```\n"
   ]
  },
  {
   "cell_type": "code",
   "execution_count": 8,
   "metadata": {},
   "outputs": [
    {
     "data": {
      "text/plain": [
       "<cartopy.mpl.feature_artist.FeatureArtist at 0xd23236908>"
      ]
     },
     "execution_count": 8,
     "metadata": {},
     "output_type": "execute_result"
    },
    {
     "data": {
      "image/png": "[encoded data removed]",
      "text/plain": [
       "<Figure size 432x288 with 2 Axes>"
      ]
     },
     "metadata": {
      "needs_background": "light"
     },
     "output_type": "display_data"
    }
   ],
   "source": [
    "ax = plt.axes(projection=ccrs.Mercator())\n",
    "\n",
    "plt.pcolor(data_mab_nj.lon, data_mab_nj.lat, np.log10(data_mab_nj.chlor_a), transform=ccrs.PlateCarree())\n",
    "plt.colorbar()\n",
    "ax.coastlines('50m')\n"
   ]
  },
  {
   "cell_type": "markdown",
   "metadata": {},
   "source": [
    "# try to open multiple days"
   ]
  },
  {
   "cell_type": "code",
   "execution_count": null,
   "metadata": {},
   "outputs": [],
   "source": [
    "\n",
    "base_url = 'https://oceandata.sci.gsfc.nasa.gov:443/opendap/MODISA/L3SMI/2019'\n",
    "\n",
    "# pick out days, the syntax is start day, stop day, steps between\n",
    "days = np.arange(1, 300, 100)\n",
    "\n",
    "files = [f'{base_url}/{str(day).zfill(3)}/A2019{str(day).zfill(3)}.L3m_DAY_CHL_chlor_a_4km.nc' for day in days]\n",
    "\n",
    "files"
   ]
  },
  {
   "cell_type": "code",
   "execution_count": null,
   "metadata": {},
   "outputs": [],
   "source": [
    "# only concat the chla, then only grab it, and subset to MAB:\n",
    "\n",
    "ds = xr.open_mfdataset(files, concat_dim = days, data_vars=['chlor_a']).sel( lat=slice(41, 38), lon=slice(-76,-71))\n",
    "ds = ds.rename({'concat_dim': 'days'})\n",
    "print('data size:',ds.nbytes/1e6, 'MB')\n",
    "ds"
   ]
  },
  {
   "cell_type": "code",
   "execution_count": null,
   "metadata": {},
   "outputs": [],
   "source": [
    "# plot the data coverage in time:\n",
    "\n",
    "nobs = ds.count('lat').count('lon')\n",
    "# nobs.plot()\n",
    "\n",
    "nobs\n"
   ]
  },
  {
   "cell_type": "code",
   "execution_count": null,
   "metadata": {},
   "outputs": [],
   "source": [
    "plt.plot(nobs)"
   ]
  },
  {
   "cell_type": "code",
   "execution_count": null,
   "metadata": {},
   "outputs": [],
   "source": []
  }
 ],
 "metadata": {
  "kernelspec": {
   "display_name": "Python 3",
   "language": "python",
   "name": "python3"
  },
  "language_info": {
   "codemirror_mode": {
    "name": "ipython",
    "version": 3
   },
   "file_extension": ".py",
   "mimetype": "text/x-python",
   "name": "python",
   "nbconvert_exporter": "python",
   "pygments_lexer": "ipython3",
   "version": "3.7.3"
  }
 },
 "nbformat": 4,
 "nbformat_minor": 4
}
