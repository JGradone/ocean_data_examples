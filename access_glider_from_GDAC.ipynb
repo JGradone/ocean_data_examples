{
 "cells": [
  {
   "cell_type": "markdown",
   "metadata": {},
   "source": [
    "# Glider data from the Glider Data Assembly center\n",
    "\n",
    "Glider data from the US Integrated Ocean Observing System\n",
    "\n",
    "A map of current glider deployments is available here:\n",
    "https://gliders.ioos.us/map/\n",
    "\n",
    "and data is available via THREDDS server: https://gliders.ioos.us/thredds/catalog/deployments/catalog.html"
   ]
  },
  {
   "cell_type": "code",
   "execution_count": 1,
   "metadata": {},
   "outputs": [
    {
     "name": "stderr",
     "output_type": "stream",
     "text": [
      "/Users/beaird/anaconda3/lib/python3.7/site-packages/xarray/core/merge.py:17: FutureWarning: The Panel class is removed from pandas. Accessing it from the top-level namespace will also be removed in the next version\n",
      "  PANDAS_TYPES = (pd.Series, pd.DataFrame, pd.Panel)\n"
     ]
    }
   ],
   "source": [
    "import xarray as xr"
   ]
  },
  {
   "cell_type": "code",
   "execution_count": 2,
   "metadata": {},
   "outputs": [
    {
     "data": {
      "text/plain": [
       "<xarray.Dataset>\n",
       "Dimensions:          (obs: 521, profile: 1068, trajectory: 1)\n",
       "Coordinates:\n",
       "  * trajectory       (trajectory) object 'UW157-20190916T0000'\n",
       "    time             (trajectory, profile) datetime64[ns] ...\n",
       "    latitude         (trajectory, profile) float64 ...\n",
       "    longitude        (trajectory, profile) float64 ...\n",
       "    time_uv          (trajectory, profile) datetime64[ns] ...\n",
       "    lat_uv           (trajectory, profile) float64 ...\n",
       "    lon_uv           (trajectory, profile) float64 ...\n",
       "    depth            (trajectory, profile, obs) float32 ...\n",
       "Dimensions without coordinates: obs, profile\n",
       "Data variables:\n",
       "    wmo_id           (trajectory) object ...\n",
       "    profile_id       (trajectory, profile) float64 ...\n",
       "    u                (trajectory, profile) float64 ...\n",
       "    v                (trajectory, profile) float64 ...\n",
       "    precise_time     (trajectory, profile, obs) datetime64[ns] ...\n",
       "    pressure         (trajectory, profile, obs) float32 ...\n",
       "    temperature      (trajectory, profile, obs) float32 ...\n",
       "    conductivity     (trajectory, profile, obs) float32 ...\n",
       "    salinity         (trajectory, profile, obs) float32 ...\n",
       "    density          (trajectory, profile, obs) float32 ...\n",
       "    precise_lat      (trajectory, profile, obs) float64 ...\n",
       "    precise_lon      (trajectory, profile, obs) float64 ...\n",
       "    platform_meta    (trajectory, profile, obs) float32 ...\n",
       "    instrument_ctd   (trajectory, profile, obs) float32 ...\n",
       "    precise_lon_qc   (trajectory, profile, obs) float32 ...\n",
       "    salinity_qc      (trajectory, profile, obs) float32 ...\n",
       "    density_qc       (trajectory, profile, obs) float32 ...\n",
       "    temperature_qc   (trajectory, profile, obs) float32 ...\n",
       "    lat_uv_qc        (trajectory, profile, obs) float32 ...\n",
       "    precise_time_qc  (trajectory, profile, obs) float32 ...\n",
       "    longitude_qc     (trajectory, profile, obs) float32 ...\n",
       "    pressure_qc      (trajectory, profile, obs) float32 ...\n",
       "    time_uv_qc       (trajectory, profile, obs) float32 ...\n",
       "    latitude_qc      (trajectory, profile, obs) float32 ...\n",
       "    u_qc             (trajectory, profile, obs) float32 ...\n",
       "    v_qc             (trajectory, profile, obs) float32 ...\n",
       "    depth_qc         (trajectory, profile, obs) float32 ...\n",
       "    time_qc          (trajectory, profile, obs) float32 ...\n",
       "    lon_uv_qc        (trajectory, profile, obs) float32 ...\n",
       "    precise_lat_qc   (trajectory, profile, obs) float32 ...\n",
       "    conductivity_qc  (trajectory, profile, obs) float32 ...\n",
       "    fluorescence     (trajectory, profile, obs) float64 ...\n",
       "    fluorescence_qc  (trajectory, profile, obs) float32 ...\n",
       "    oxygen           (trajectory, profile, obs) float64 ...\n",
       "    oxygen_qc        (trajectory, profile, obs) float32 ...\n",
       "Attributes:\n",
       "    acknowledgment:                Integrated Ocean Observing System (IOOS)NA...\n",
       "    cdm_data_type:                 TrajectoryProfile\n",
       "    cdm_profile_variables:         time_uv,lat_uv,lon_uv,u,v,profile_id,time,...\n",
       "    cdm_trajectory_variables:      trajectory,wmo_id\n",
       "    comment:                       Data has not been reviewed and is provided...\n",
       "    contributor_name:              Jack Barth, R. Kipp Shearman\n",
       "    contributor_role:              Principal investigator, Principal investig...\n",
       "    Conventions:                   Unidata Dataset Discovery v1.0, COARDS, CF...\n",
       "    creator_email:                 barth@coas.oregonstate.edu\n",
       "    creator_name:                  Jack Barth\n",
       "    creator_url:                   gliderfs2.coas.oregonstate.edu/gliderweb\n",
       "    date_created:                  2020-01-24T17:01:23Z\n",
       "    date_issued:                   2020-01-24T17:01:23Z\n",
       "    date_modified:                 2020-01-24T17:01:23Z\n",
       "    Easternmost_Easting:           -124.34995644076315\n",
       "    featureType:                   TrajectoryProfile\n",
       "    format_version:                IOOS_Glider_NetCDF_v2.0.nc\n",
       "    geospatial_lat_max:            41.106238251717976\n",
       "    geospatial_lat_min:            40.842825000000005\n",
       "    geospatial_lat_units:          degrees_north\n",
       "    geospatial_lon_max:            -124.34995644076315\n",
       "    geospatial_lon_min:            -130.00003137243965\n",
       "    geospatial_lon_units:          degrees_east\n",
       "    geospatial_vertical_max:       1008.427\n",
       "    geospatial_vertical_min:       -0.2888346\n",
       "    geospatial_vertical_positive:  down\n",
       "    geospatial_vertical_units:     m\n",
       "    gts_ingest:                    true\n",
       "    history:                       Processing start:\\nINFO: QC.py(378): Chang...\n",
       "    id:                            UW157-20190916T0000_f070_8f49_1646\n",
       "    infoUrl:                       http://data.ioos.us/gliders/erddap/\n",
       "    institution:                   Oregon State University\n",
       "    ioos_dac_checksum:             d3f9b2f429e81483662b0cc5033c1957\n",
       "    ioos_dac_completed:            False\n",
       "    ioos_regional_association:     CeNCOOS,NANOOS\n",
       "    keywords:                      AUVS > Autonomous Underwater Vehicles, Oce...\n",
       "    keywords_vocabulary:           GCMD Science Keywords\n",
       "    license:                       These data may be redistributed and used w...\n",
       "    Metadata_Conventions:          Unidata Dataset Discovery v1.0, COARDS, CF...\n",
       "    naming_authority:              edu.washington.apl\n",
       "    Northernmost_Northing:         41.106238251717976\n",
       "    platform_type:                 Seaglider\n",
       "    processing_level:              1.120000\n",
       "    project:                       IOOS Oregon State University seaglider sam...\n",
       "    publisher_email:               cencoos_communications@mbari.org\n",
       "    publisher_name:                Central and Northern California Ocean Obse...\n",
       "    publisher_url:                 www.cencoos.org\n",
       "    references:                    http://data.nodc.noaa.gov/accession/0092291\n",
       "    sea_name:                      North Pacific Ocean\n",
       "    source:                        Seaglider UW157\n",
       "    sourceUrl:                     (local files)\n",
       "    Southernmost_Northing:         40.842825000000005\n",
       "    standard_name_vocabulary:      CF-1.6\n",
       "    subsetVariables:               trajectory,wmo_id,time_uv,lat_uv,lon_uv,u,...\n",
       "    summary:                       Seaglider UW157 Trinidad Head IOOS line, C...\n",
       "    time_coverage_end:             2020-01-24T16:10:49Z\n",
       "    time_coverage_start:           2019-09-16T18:03:12Z\n",
       "    title:                         UW157-20190916T0000\n",
       "    Westernmost_Easting:           -130.00003137243965\n",
       "    DODS.strlen:                   9\n",
       "    DODS.dimName:                  wmo_id_strlen"
      ]
     },
     "execution_count": 2,
     "metadata": {},
     "output_type": "execute_result"
    }
   ],
   "source": [
    "url = 'http://gliders.ioos.us/thredds/dodsC/deployments/mbari/UW157-20190916T0000/UW157-20190916T0000.nc3.nc'\n",
    "\n",
    "gl = xr.open_dataset(url)\n",
    "\n",
    "gl"
   ]
  },
  {
   "cell_type": "code",
   "execution_count": null,
   "metadata": {},
   "outputs": [],
   "source": []
  }
 ],
 "metadata": {
  "kernelspec": {
   "display_name": "Python 3",
   "language": "python",
   "name": "python3"
  },
  "language_info": {
   "codemirror_mode": {
    "name": "ipython",
    "version": 3
   },
   "file_extension": ".py",
   "mimetype": "text/x-python",
   "name": "python",
   "nbconvert_exporter": "python",
   "pygments_lexer": "ipython3",
   "version": "3.7.3"
  }
 },
 "nbformat": 4,
 "nbformat_minor": 4
}
